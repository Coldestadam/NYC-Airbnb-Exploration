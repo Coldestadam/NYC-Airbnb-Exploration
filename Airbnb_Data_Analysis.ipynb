{
 "cells": [
  {
   "cell_type": "markdown",
   "metadata": {},
   "source": [
    "# Importing Packages"
   ]
  },
  {
   "cell_type": "code",
   "execution_count": 1,
   "metadata": {},
   "outputs": [],
   "source": [
    "import pandas as pd\n",
    "import matplotlib.pyplot as plt\n",
    "import numpy as np\n",
    "\n",
    "from sklearn.model_selection import train_test_split \n",
    "from sklearn.linear_model import Ridge, LinearRegression\n",
    "from sklearn import metrics"
   ]
  },
  {
   "cell_type": "markdown",
   "metadata": {},
   "source": [
    "# Loading the data..."
   ]
  },
  {
   "cell_type": "code",
   "execution_count": 2,
   "metadata": {},
   "outputs": [
    {
     "data": {
      "text/html": [
       "<div>\n",
       "<style scoped>\n",
       "    .dataframe tbody tr th:only-of-type {\n",
       "        vertical-align: middle;\n",
       "    }\n",
       "\n",
       "    .dataframe tbody tr th {\n",
       "        vertical-align: top;\n",
       "    }\n",
       "\n",
       "    .dataframe thead th {\n",
       "        text-align: right;\n",
       "    }\n",
       "</style>\n",
       "<table border=\"1\" class=\"dataframe\">\n",
       "  <thead>\n",
       "    <tr style=\"text-align: right;\">\n",
       "      <th></th>\n",
       "      <th>id</th>\n",
       "      <th>name</th>\n",
       "      <th>host_id</th>\n",
       "      <th>host_name</th>\n",
       "      <th>neighbourhood_group</th>\n",
       "      <th>neighbourhood</th>\n",
       "      <th>latitude</th>\n",
       "      <th>longitude</th>\n",
       "      <th>room_type</th>\n",
       "      <th>price</th>\n",
       "      <th>minimum_nights</th>\n",
       "      <th>number_of_reviews</th>\n",
       "      <th>last_review</th>\n",
       "      <th>reviews_per_month</th>\n",
       "      <th>calculated_host_listings_count</th>\n",
       "      <th>availability_365</th>\n",
       "    </tr>\n",
       "  </thead>\n",
       "  <tbody>\n",
       "    <tr>\n",
       "      <th>0</th>\n",
       "      <td>2539</td>\n",
       "      <td>Clean &amp; quiet apt home by the park</td>\n",
       "      <td>2787</td>\n",
       "      <td>John</td>\n",
       "      <td>Brooklyn</td>\n",
       "      <td>Kensington</td>\n",
       "      <td>40.64749</td>\n",
       "      <td>-73.97237</td>\n",
       "      <td>Private room</td>\n",
       "      <td>149</td>\n",
       "      <td>1</td>\n",
       "      <td>9</td>\n",
       "      <td>2018-10-19</td>\n",
       "      <td>0.21</td>\n",
       "      <td>6</td>\n",
       "      <td>365</td>\n",
       "    </tr>\n",
       "    <tr>\n",
       "      <th>1</th>\n",
       "      <td>2595</td>\n",
       "      <td>Skylit Midtown Castle</td>\n",
       "      <td>2845</td>\n",
       "      <td>Jennifer</td>\n",
       "      <td>Manhattan</td>\n",
       "      <td>Midtown</td>\n",
       "      <td>40.75362</td>\n",
       "      <td>-73.98377</td>\n",
       "      <td>Entire home/apt</td>\n",
       "      <td>225</td>\n",
       "      <td>1</td>\n",
       "      <td>45</td>\n",
       "      <td>2019-05-21</td>\n",
       "      <td>0.38</td>\n",
       "      <td>2</td>\n",
       "      <td>355</td>\n",
       "    </tr>\n",
       "    <tr>\n",
       "      <th>2</th>\n",
       "      <td>3647</td>\n",
       "      <td>THE VILLAGE OF HARLEM....NEW YORK !</td>\n",
       "      <td>4632</td>\n",
       "      <td>Elisabeth</td>\n",
       "      <td>Manhattan</td>\n",
       "      <td>Harlem</td>\n",
       "      <td>40.80902</td>\n",
       "      <td>-73.94190</td>\n",
       "      <td>Private room</td>\n",
       "      <td>150</td>\n",
       "      <td>3</td>\n",
       "      <td>0</td>\n",
       "      <td>NaN</td>\n",
       "      <td>NaN</td>\n",
       "      <td>1</td>\n",
       "      <td>365</td>\n",
       "    </tr>\n",
       "    <tr>\n",
       "      <th>3</th>\n",
       "      <td>3831</td>\n",
       "      <td>Cozy Entire Floor of Brownstone</td>\n",
       "      <td>4869</td>\n",
       "      <td>LisaRoxanne</td>\n",
       "      <td>Brooklyn</td>\n",
       "      <td>Clinton Hill</td>\n",
       "      <td>40.68514</td>\n",
       "      <td>-73.95976</td>\n",
       "      <td>Entire home/apt</td>\n",
       "      <td>89</td>\n",
       "      <td>1</td>\n",
       "      <td>270</td>\n",
       "      <td>2019-07-05</td>\n",
       "      <td>4.64</td>\n",
       "      <td>1</td>\n",
       "      <td>194</td>\n",
       "    </tr>\n",
       "    <tr>\n",
       "      <th>4</th>\n",
       "      <td>5022</td>\n",
       "      <td>Entire Apt: Spacious Studio/Loft by central park</td>\n",
       "      <td>7192</td>\n",
       "      <td>Laura</td>\n",
       "      <td>Manhattan</td>\n",
       "      <td>East Harlem</td>\n",
       "      <td>40.79851</td>\n",
       "      <td>-73.94399</td>\n",
       "      <td>Entire home/apt</td>\n",
       "      <td>80</td>\n",
       "      <td>10</td>\n",
       "      <td>9</td>\n",
       "      <td>2018-11-19</td>\n",
       "      <td>0.10</td>\n",
       "      <td>1</td>\n",
       "      <td>0</td>\n",
       "    </tr>\n",
       "  </tbody>\n",
       "</table>\n",
       "</div>"
      ],
      "text/plain": [
       "     id                                              name  host_id  \\\n",
       "0  2539                Clean & quiet apt home by the park     2787   \n",
       "1  2595                             Skylit Midtown Castle     2845   \n",
       "2  3647               THE VILLAGE OF HARLEM....NEW YORK !     4632   \n",
       "3  3831                   Cozy Entire Floor of Brownstone     4869   \n",
       "4  5022  Entire Apt: Spacious Studio/Loft by central park     7192   \n",
       "\n",
       "     host_name neighbourhood_group neighbourhood  latitude  longitude  \\\n",
       "0         John            Brooklyn    Kensington  40.64749  -73.97237   \n",
       "1     Jennifer           Manhattan       Midtown  40.75362  -73.98377   \n",
       "2    Elisabeth           Manhattan        Harlem  40.80902  -73.94190   \n",
       "3  LisaRoxanne            Brooklyn  Clinton Hill  40.68514  -73.95976   \n",
       "4        Laura           Manhattan   East Harlem  40.79851  -73.94399   \n",
       "\n",
       "         room_type  price  minimum_nights  number_of_reviews last_review  \\\n",
       "0     Private room    149               1                  9  2018-10-19   \n",
       "1  Entire home/apt    225               1                 45  2019-05-21   \n",
       "2     Private room    150               3                  0         NaN   \n",
       "3  Entire home/apt     89               1                270  2019-07-05   \n",
       "4  Entire home/apt     80              10                  9  2018-11-19   \n",
       "\n",
       "   reviews_per_month  calculated_host_listings_count  availability_365  \n",
       "0               0.21                               6               365  \n",
       "1               0.38                               2               355  \n",
       "2                NaN                               1               365  \n",
       "3               4.64                               1               194  \n",
       "4               0.10                               1                 0  "
      ]
     },
     "execution_count": 2,
     "metadata": {},
     "output_type": "execute_result"
    }
   ],
   "source": [
    "Air2019 = pd.read_csv(\"/Users/adam/Documents/My DS Projects/datasets/new-york-city-airbnb-open-data/AB_NYC_2019.csv\")\n",
    "\n",
    "Air2019.head()"
   ]
  },
  {
   "cell_type": "code",
   "execution_count": 3,
   "metadata": {},
   "outputs": [
    {
     "name": "stdout",
     "output_type": "stream",
     "text": [
      "Index(['id', 'name', 'host_id', 'host_name', 'neighbourhood_group',\n",
      "       'neighbourhood', 'latitude', 'longitude', 'room_type', 'price',\n",
      "       'minimum_nights', 'number_of_reviews', 'last_review',\n",
      "       'reviews_per_month', 'calculated_host_listings_count',\n",
      "       'availability_365'],\n",
      "      dtype='object')\n"
     ]
    }
   ],
   "source": [
    "print(Air2019.columns)"
   ]
  },
  {
   "cell_type": "markdown",
   "metadata": {},
   "source": [
    "# What is this data?\n",
    "\n",
    "This data details AirBnb's listings within 2019 in NYC. The kaggle site is <a href=https://www.kaggle.com/dgomonov/new-york-city-airbnb-open-data>here</a>.\n",
    "\n",
    "## Features:\n",
    "<ul>\n",
    "    <li><b>id:</b> listing ID</li>\n",
    "    <li><b>name:</b> name of the listing</li>\n",
    "    <li><b>host_id:</b> host ID</li>\n",
    "    <li><b>host_name:</b> name of the host</li>\n",
    "    <li><b>neighbourhood_group:</b> location(Boroughs)</li>\n",
    "    <li><b>neighbourhood:</b> area(Neighborhoods)</li>\n",
    "    <li><b>latitude:</b> latitude coordinates</li>\n",
    "    <li><b>longitude:</b> longitude coordinates</li>\n",
    "    <li><b>room_type:</b> listing space type</li>\n",
    "    <li><b>price:</b> price per night in dollars</li>\n",
    "    <li><b>minimum_nights:</b> amount of nights minimum</li>\n",
    "    <li><b>number_of_reviews:</b> number of reviews</li>\n",
    "    <li><b>last_review:</b> date of last review</li>\n",
    "    <li><b>reviews_per_month:</b> number of reviews per month</li>\n",
    "    <li><b>calculated_host_listings_count:</b> amount of listing per host</li>\n",
    "    <li><b>availability_365:</b> number of days when listing is available for booking</li>\n",
    "</ul>"
   ]
  },
  {
   "cell_type": "markdown",
   "metadata": {},
   "source": [
    "# What can we learn about different hosts and areas?\n",
    "\n",
    "1. What is the the most expensive borough to rent from?\n",
    "2. What borough is the most booked?\n",
    "3. What is the distribution of the different space types by each borough?"
   ]
  },
  {
   "cell_type": "markdown",
   "metadata": {},
   "source": [
    "## What is the the most expensive borough to rent from?"
   ]
  },
  {
   "cell_type": "code",
   "execution_count": 4,
   "metadata": {},
   "outputs": [
    {
     "data": {
      "text/html": [
       "<div>\n",
       "<style scoped>\n",
       "    .dataframe tbody tr th:only-of-type {\n",
       "        vertical-align: middle;\n",
       "    }\n",
       "\n",
       "    .dataframe tbody tr th {\n",
       "        vertical-align: top;\n",
       "    }\n",
       "\n",
       "    .dataframe thead th {\n",
       "        text-align: right;\n",
       "    }\n",
       "</style>\n",
       "<table border=\"1\" class=\"dataframe\">\n",
       "  <thead>\n",
       "    <tr style=\"text-align: right;\">\n",
       "      <th></th>\n",
       "      <th>id</th>\n",
       "      <th>name</th>\n",
       "      <th>neighbourhood_group</th>\n",
       "      <th>neighbourhood</th>\n",
       "      <th>room_type</th>\n",
       "      <th>price</th>\n",
       "      <th>minimum_nights</th>\n",
       "      <th>calculated_host_listings_count</th>\n",
       "      <th>availability_365</th>\n",
       "    </tr>\n",
       "  </thead>\n",
       "  <tbody>\n",
       "    <tr>\n",
       "      <th>0</th>\n",
       "      <td>2539</td>\n",
       "      <td>Clean &amp; quiet apt home by the park</td>\n",
       "      <td>Brooklyn</td>\n",
       "      <td>Kensington</td>\n",
       "      <td>Private room</td>\n",
       "      <td>149</td>\n",
       "      <td>1</td>\n",
       "      <td>6</td>\n",
       "      <td>365</td>\n",
       "    </tr>\n",
       "    <tr>\n",
       "      <th>1</th>\n",
       "      <td>2595</td>\n",
       "      <td>Skylit Midtown Castle</td>\n",
       "      <td>Manhattan</td>\n",
       "      <td>Midtown</td>\n",
       "      <td>Entire home/apt</td>\n",
       "      <td>225</td>\n",
       "      <td>1</td>\n",
       "      <td>2</td>\n",
       "      <td>355</td>\n",
       "    </tr>\n",
       "    <tr>\n",
       "      <th>2</th>\n",
       "      <td>3647</td>\n",
       "      <td>THE VILLAGE OF HARLEM....NEW YORK !</td>\n",
       "      <td>Manhattan</td>\n",
       "      <td>Harlem</td>\n",
       "      <td>Private room</td>\n",
       "      <td>150</td>\n",
       "      <td>3</td>\n",
       "      <td>1</td>\n",
       "      <td>365</td>\n",
       "    </tr>\n",
       "    <tr>\n",
       "      <th>3</th>\n",
       "      <td>3831</td>\n",
       "      <td>Cozy Entire Floor of Brownstone</td>\n",
       "      <td>Brooklyn</td>\n",
       "      <td>Clinton Hill</td>\n",
       "      <td>Entire home/apt</td>\n",
       "      <td>89</td>\n",
       "      <td>1</td>\n",
       "      <td>1</td>\n",
       "      <td>194</td>\n",
       "    </tr>\n",
       "    <tr>\n",
       "      <th>4</th>\n",
       "      <td>5022</td>\n",
       "      <td>Entire Apt: Spacious Studio/Loft by central park</td>\n",
       "      <td>Manhattan</td>\n",
       "      <td>East Harlem</td>\n",
       "      <td>Entire home/apt</td>\n",
       "      <td>80</td>\n",
       "      <td>10</td>\n",
       "      <td>1</td>\n",
       "      <td>0</td>\n",
       "    </tr>\n",
       "  </tbody>\n",
       "</table>\n",
       "</div>"
      ],
      "text/plain": [
       "     id                                              name neighbourhood_group  \\\n",
       "0  2539                Clean & quiet apt home by the park            Brooklyn   \n",
       "1  2595                             Skylit Midtown Castle           Manhattan   \n",
       "2  3647               THE VILLAGE OF HARLEM....NEW YORK !           Manhattan   \n",
       "3  3831                   Cozy Entire Floor of Brownstone            Brooklyn   \n",
       "4  5022  Entire Apt: Spacious Studio/Loft by central park           Manhattan   \n",
       "\n",
       "  neighbourhood        room_type  price  minimum_nights  \\\n",
       "0    Kensington     Private room    149               1   \n",
       "1       Midtown  Entire home/apt    225               1   \n",
       "2        Harlem     Private room    150               3   \n",
       "3  Clinton Hill  Entire home/apt     89               1   \n",
       "4   East Harlem  Entire home/apt     80              10   \n",
       "\n",
       "   calculated_host_listings_count  availability_365  \n",
       "0                               6               365  \n",
       "1                               2               355  \n",
       "2                               1               365  \n",
       "3                               1               194  \n",
       "4                               1                 0  "
      ]
     },
     "execution_count": 4,
     "metadata": {},
     "output_type": "execute_result"
    }
   ],
   "source": [
    "df1 = Air2019.loc[:, ['id', 'name', 'neighbourhood_group', 'neighbourhood',\n",
    "                        'room_type', 'price', 'minimum_nights', 'calculated_host_listings_count',\n",
    "                        'availability_365']]\n",
    "df1.head()"
   ]
  },
  {
   "cell_type": "code",
   "execution_count": 5,
   "metadata": {},
   "outputs": [
    {
     "data": {
      "text/html": [
       "<div>\n",
       "<style scoped>\n",
       "    .dataframe tbody tr th:only-of-type {\n",
       "        vertical-align: middle;\n",
       "    }\n",
       "\n",
       "    .dataframe tbody tr th {\n",
       "        vertical-align: top;\n",
       "    }\n",
       "\n",
       "    .dataframe thead th {\n",
       "        text-align: right;\n",
       "    }\n",
       "</style>\n",
       "<table border=\"1\" class=\"dataframe\">\n",
       "  <thead>\n",
       "    <tr style=\"text-align: right;\">\n",
       "      <th></th>\n",
       "      <th>price</th>\n",
       "    </tr>\n",
       "    <tr>\n",
       "      <th>neighbourhood_group</th>\n",
       "      <th></th>\n",
       "    </tr>\n",
       "  </thead>\n",
       "  <tbody>\n",
       "    <tr>\n",
       "      <th>Bronx</th>\n",
       "      <td>87.496792</td>\n",
       "    </tr>\n",
       "    <tr>\n",
       "      <th>Brooklyn</th>\n",
       "      <td>124.383207</td>\n",
       "    </tr>\n",
       "    <tr>\n",
       "      <th>Manhattan</th>\n",
       "      <td>196.875814</td>\n",
       "    </tr>\n",
       "    <tr>\n",
       "      <th>Queens</th>\n",
       "      <td>99.517649</td>\n",
       "    </tr>\n",
       "    <tr>\n",
       "      <th>Staten Island</th>\n",
       "      <td>114.812332</td>\n",
       "    </tr>\n",
       "  </tbody>\n",
       "</table>\n",
       "</div>"
      ],
      "text/plain": [
       "                          price\n",
       "neighbourhood_group            \n",
       "Bronx                 87.496792\n",
       "Brooklyn             124.383207\n",
       "Manhattan            196.875814\n",
       "Queens                99.517649\n",
       "Staten Island        114.812332"
      ]
     },
     "execution_count": 5,
     "metadata": {},
     "output_type": "execute_result"
    }
   ],
   "source": [
    "dfcost = df1.loc[:, ['neighbourhood_group', 'price']]\n",
    "avgdfcost = dfcost.groupby(['neighbourhood_group']).mean()\n",
    "avgdfcost"
   ]
  },
  {
   "cell_type": "code",
   "execution_count": 6,
   "metadata": {
    "scrolled": true
   },
   "outputs": [
    {
     "data": {
      "image/png": "[encoded data removed]",
      "text/plain": [
       "<Figure size 432x288 with 1 Axes>"
      ]
     },
     "metadata": {
      "needs_background": "light"
     },
     "output_type": "display_data"
    }
   ],
   "source": [
    "dfcost_values = avgdfcost.reset_index().values\n",
    "bouroughs = np.array([dfcost_values[i, 0] for i in range(dfcost_values.shape[0])])\n",
    "avg_price = np.array([dfcost_values[i, 1] for i in range(dfcost_values.shape[0])])\n",
    "\n",
    "plt.bar(bouroughs, avg_price)\n",
    "plt.show()"
   ]
  },
  {
   "cell_type": "markdown",
   "metadata": {},
   "source": [
    "### Answer:\n",
    "As we see from above, Manhattan is the most expensive place to rent from. I grouped the dataframe by its borough and calculated the mean price per night for each borough."
   ]
  },
  {
   "cell_type": "markdown",
   "metadata": {},
   "source": [
    "## What bourough is the most booked?"
   ]
  },
  {
   "cell_type": "code",
   "execution_count": 7,
   "metadata": {
    "scrolled": true
   },
   "outputs": [
    {
     "data": {
      "text/html": [
       "<div>\n",
       "<style scoped>\n",
       "    .dataframe tbody tr th:only-of-type {\n",
       "        vertical-align: middle;\n",
       "    }\n",
       "\n",
       "    .dataframe tbody tr th {\n",
       "        vertical-align: top;\n",
       "    }\n",
       "\n",
       "    .dataframe thead th {\n",
       "        text-align: right;\n",
       "    }\n",
       "</style>\n",
       "<table border=\"1\" class=\"dataframe\">\n",
       "  <thead>\n",
       "    <tr style=\"text-align: right;\">\n",
       "      <th></th>\n",
       "      <th>availability_365</th>\n",
       "    </tr>\n",
       "    <tr>\n",
       "      <th>neighbourhood_group</th>\n",
       "      <th></th>\n",
       "    </tr>\n",
       "  </thead>\n",
       "  <tbody>\n",
       "    <tr>\n",
       "      <th>Brooklyn</th>\n",
       "      <td>100.232292</td>\n",
       "    </tr>\n",
       "    <tr>\n",
       "      <th>Manhattan</th>\n",
       "      <td>111.979410</td>\n",
       "    </tr>\n",
       "    <tr>\n",
       "      <th>Queens</th>\n",
       "      <td>144.451818</td>\n",
       "    </tr>\n",
       "    <tr>\n",
       "      <th>Bronx</th>\n",
       "      <td>165.758937</td>\n",
       "    </tr>\n",
       "    <tr>\n",
       "      <th>Staten Island</th>\n",
       "      <td>199.678284</td>\n",
       "    </tr>\n",
       "  </tbody>\n",
       "</table>\n",
       "</div>"
      ],
      "text/plain": [
       "                     availability_365\n",
       "neighbourhood_group                  \n",
       "Brooklyn                   100.232292\n",
       "Manhattan                  111.979410\n",
       "Queens                     144.451818\n",
       "Bronx                      165.758937\n",
       "Staten Island              199.678284"
      ]
     },
     "execution_count": 7,
     "metadata": {},
     "output_type": "execute_result"
    }
   ],
   "source": [
    "# Creating a new DataFrame to compare which the booking rates of each borough\n",
    "dfaval = df1.loc[:, ['neighbourhood_group', 'availability_365']]\n",
    "avg_dfaval = dfaval.groupby(['neighbourhood_group']).mean().sort_values('availability_365')\n",
    "avg_dfaval"
   ]
  },
  {
   "cell_type": "code",
   "execution_count": 8,
   "metadata": {},
   "outputs": [
    {
     "data": {
      "image/png": "[encoded data removed]",
      "text/plain": [
       "<Figure size 432x288 with 1 Axes>"
      ]
     },
     "metadata": {
      "needs_background": "light"
     },
     "output_type": "display_data"
    }
   ],
   "source": [
    "avg_dfaval_values = avg_dfaval.reset_index().values\n",
    "borough = np.array([avg_dfaval_values[i, 0] for i in range(avg_dfaval_values.shape[0])])\n",
    "avg_aval = np.array([avg_dfaval_values[i, 1] for i in range(avg_dfaval_values.shape[0])])\n",
    "\n",
    "plt.bar(borough, avg_aval)\n",
    "plt.show()"
   ]
  },
  {
   "cell_type": "markdown",
   "metadata": {},
   "source": [
    "### Answer:\n",
    "I took the average of the availabity rate per each borough, and we see that Brooklyn is where most Airbnb customers rent, which is not as expensive as Manhattan from above. Therefore, Brooklyn is the most popular borough to rent in NYC!"
   ]
  },
  {
   "cell_type": "markdown",
   "metadata": {},
   "source": [
    "## What is the distribution of the different space types by each bourough?"
   ]
  },
  {
   "cell_type": "code",
   "execution_count": 9,
   "metadata": {
    "scrolled": true
   },
   "outputs": [
    {
     "data": {
      "text/html": [
       "<div>\n",
       "<style scoped>\n",
       "    .dataframe tbody tr th:only-of-type {\n",
       "        vertical-align: middle;\n",
       "    }\n",
       "\n",
       "    .dataframe tbody tr th {\n",
       "        vertical-align: top;\n",
       "    }\n",
       "\n",
       "    .dataframe thead th {\n",
       "        text-align: right;\n",
       "    }\n",
       "</style>\n",
       "<table border=\"1\" class=\"dataframe\">\n",
       "  <thead>\n",
       "    <tr style=\"text-align: right;\">\n",
       "      <th></th>\n",
       "      <th></th>\n",
       "      <th>count</th>\n",
       "    </tr>\n",
       "    <tr>\n",
       "      <th>neighbourhood_group</th>\n",
       "      <th>room_type</th>\n",
       "      <th></th>\n",
       "    </tr>\n",
       "  </thead>\n",
       "  <tbody>\n",
       "    <tr>\n",
       "      <th rowspan=\"3\" valign=\"top\">Bronx</th>\n",
       "      <th>Entire home/apt</th>\n",
       "      <td>379</td>\n",
       "    </tr>\n",
       "    <tr>\n",
       "      <th>Private room</th>\n",
       "      <td>652</td>\n",
       "    </tr>\n",
       "    <tr>\n",
       "      <th>Shared room</th>\n",
       "      <td>60</td>\n",
       "    </tr>\n",
       "    <tr>\n",
       "      <th rowspan=\"3\" valign=\"top\">Brooklyn</th>\n",
       "      <th>Entire home/apt</th>\n",
       "      <td>9559</td>\n",
       "    </tr>\n",
       "    <tr>\n",
       "      <th>Private room</th>\n",
       "      <td>10132</td>\n",
       "    </tr>\n",
       "    <tr>\n",
       "      <th>Shared room</th>\n",
       "      <td>413</td>\n",
       "    </tr>\n",
       "    <tr>\n",
       "      <th rowspan=\"3\" valign=\"top\">Manhattan</th>\n",
       "      <th>Entire home/apt</th>\n",
       "      <td>13199</td>\n",
       "    </tr>\n",
       "    <tr>\n",
       "      <th>Private room</th>\n",
       "      <td>7982</td>\n",
       "    </tr>\n",
       "    <tr>\n",
       "      <th>Shared room</th>\n",
       "      <td>480</td>\n",
       "    </tr>\n",
       "    <tr>\n",
       "      <th rowspan=\"3\" valign=\"top\">Queens</th>\n",
       "      <th>Entire home/apt</th>\n",
       "      <td>2096</td>\n",
       "    </tr>\n",
       "    <tr>\n",
       "      <th>Private room</th>\n",
       "      <td>3372</td>\n",
       "    </tr>\n",
       "    <tr>\n",
       "      <th>Shared room</th>\n",
       "      <td>198</td>\n",
       "    </tr>\n",
       "    <tr>\n",
       "      <th rowspan=\"3\" valign=\"top\">Staten Island</th>\n",
       "      <th>Entire home/apt</th>\n",
       "      <td>176</td>\n",
       "    </tr>\n",
       "    <tr>\n",
       "      <th>Private room</th>\n",
       "      <td>188</td>\n",
       "    </tr>\n",
       "    <tr>\n",
       "      <th>Shared room</th>\n",
       "      <td>9</td>\n",
       "    </tr>\n",
       "  </tbody>\n",
       "</table>\n",
       "</div>"
      ],
      "text/plain": [
       "                                     count\n",
       "neighbourhood_group room_type             \n",
       "Bronx               Entire home/apt    379\n",
       "                    Private room       652\n",
       "                    Shared room         60\n",
       "Brooklyn            Entire home/apt   9559\n",
       "                    Private room     10132\n",
       "                    Shared room        413\n",
       "Manhattan           Entire home/apt  13199\n",
       "                    Private room      7982\n",
       "                    Shared room        480\n",
       "Queens              Entire home/apt   2096\n",
       "                    Private room      3372\n",
       "                    Shared room        198\n",
       "Staten Island       Entire home/apt    176\n",
       "                    Private room       188\n",
       "                    Shared room          9"
      ]
     },
     "execution_count": 9,
     "metadata": {},
     "output_type": "execute_result"
    }
   ],
   "source": [
    "dfRoomType = df1.loc[:, ['neighbourhood_group', 'room_type']]\n",
    "dfRoomType = dfRoomType.groupby(['neighbourhood_group', 'room_type']).agg({'room_type':['count']})['room_type']\n",
    "dfRoomType"
   ]
  },
  {
   "cell_type": "code",
   "execution_count": 10,
   "metadata": {},
   "outputs": [],
   "source": [
    "def display_distribution(neighborhood, dataframe):\n",
    "    dfRoom = dataframe.loc[neighborhood].reset_index().values\n",
    "    print(dfRoom)\n",
    "    room_type = np.array([dfRoom[i, 0] for i in range(dfRoom.shape[0])])\n",
    "    counts = np.array([dfRoom[i, 1] for i in range(dfRoom.shape[0])])\n",
    "    \n",
    "    print('\\nTotal number of listings: ', np.sum(counts))\n",
    "    plt.bar(room_type, counts)\n",
    "    plt.title('Room Types for {}'.format(neighborhood))\n",
    "    plt.ylabel('Counts')\n",
    "    plt.show()"
   ]
  },
  {
   "cell_type": "markdown",
   "metadata": {},
   "source": [
    "### Distribution of space types in the Bronx\n",
    "\n",
    "As we see below, the most Airbnb listings are private rooms.<br>\n",
    "\n",
    "<b>Total listings:</b> 1091\n",
    "\n",
    "Counts:\n",
    "<ul>\n",
    "    <li><b>Entire home/apt:</b> 379</li>\n",
    "    <li><b>Private room:</b> 652</li>\n",
    "    <li><b>Shared room:</b> 60</li>\n",
    "</ul>"
   ]
  },
  {
   "cell_type": "code",
   "execution_count": 11,
   "metadata": {
    "scrolled": true
   },
   "outputs": [
    {
     "name": "stdout",
     "output_type": "stream",
     "text": [
      "[['Entire home/apt' 379]\n",
      " ['Private room' 652]\n",
      " ['Shared room' 60]]\n",
      "\n",
      "Total number of listings:  1091\n"
     ]
    },
    {
     "data": {
      "image/png": "[encoded data removed]",
      "text/plain": [
       "<Figure size 432x288 with 1 Axes>"
      ]
     },
     "metadata": {
      "needs_background": "light"
     },
     "output_type": "display_data"
    }
   ],
   "source": [
    "display_distribution('Bronx', dfRoomType)"
   ]
  },
  {
   "cell_type": "markdown",
   "metadata": {},
   "source": [
    "### Distribution of space types in Brooklyn\n",
    "\n",
    "There is a total of 20,104 listings in Brooklyn. We also observe that most listings are private rooms, however there is a considerate amount of entire homes and apartments.<br>\n",
    "\n",
    "<b>Total listings:</b> 20,104\n",
    "\n",
    "Counts:\n",
    "<ul>\n",
    "    <li><b>Entire home/apt:</b> 9,559</li>\n",
    "    <li><b>Private room:</b> 10,132</li>\n",
    "    <li><b>Shared room:</b> 413</li>\n",
    "</ul>"
   ]
  },
  {
   "cell_type": "code",
   "execution_count": 12,
   "metadata": {
    "scrolled": true
   },
   "outputs": [
    {
     "name": "stdout",
     "output_type": "stream",
     "text": [
      "[['Entire home/apt' 9559]\n",
      " ['Private room' 10132]\n",
      " ['Shared room' 413]]\n",
      "\n",
      "Total number of listings:  20104\n"
     ]
    },
    {
     "data": {
      "image/png": "[encoded data removed]",
      "text/plain": [
       "<Figure size 432x288 with 1 Axes>"
      ]
     },
     "metadata": {
      "needs_background": "light"
     },
     "output_type": "display_data"
    }
   ],
   "source": [
    "display_distribution('Brooklyn', dfRoomType)"
   ]
  },
  {
   "cell_type": "markdown",
   "metadata": {},
   "source": [
    "### Distribution of space types in Manhattan\n",
    "\n",
    "There is a total of 21,661 listings in Manhattan. Most listings are entire homes and apartments, and unlike Brooklyn, there is a great difference between entire spaces and private rooms.<br>\n",
    "\n",
    "<b>Total listings:</b> 21,661\n",
    "\n",
    "Counts:\n",
    "<ul>\n",
    "    <li><b>Entire home/apt:</b> 13,199</li>\n",
    "    <li><b>Private room:</b> 7,982</li>\n",
    "    <li><b>Shared room:</b> 480</li>\n",
    "</ul>"
   ]
  },
  {
   "cell_type": "code",
   "execution_count": 13,
   "metadata": {},
   "outputs": [
    {
     "name": "stdout",
     "output_type": "stream",
     "text": [
      "[['Entire home/apt' 13199]\n",
      " ['Private room' 7982]\n",
      " ['Shared room' 480]]\n",
      "\n",
      "Total number of listings:  21661\n"
     ]
    },
    {
     "data": {
      "image/png": "[encoded data removed]",
      "text/plain": [
       "<Figure size 432x288 with 1 Axes>"
      ]
     },
     "metadata": {
      "needs_background": "light"
     },
     "output_type": "display_data"
    }
   ],
   "source": [
    "display_distribution('Manhattan', dfRoomType)"
   ]
  },
  {
   "cell_type": "markdown",
   "metadata": {},
   "source": [
    "### Distribution of space types in Queens\n",
    "\n",
    "There is a total of 5,666 listings in Queens. Most listings are private rooms.<br>\n",
    "\n",
    "<b>Total listings:</b> 5,666\n",
    "\n",
    "Counts:\n",
    "<ul>\n",
    "    <li><b>Entire home/apt:</b> 2,096</li>\n",
    "    <li><b>Private room:</b> 3,372</li>\n",
    "    <li><b>Shared room:</b> 198</li>\n",
    "</ul>"
   ]
  },
  {
   "cell_type": "code",
   "execution_count": 14,
   "metadata": {},
   "outputs": [
    {
     "name": "stdout",
     "output_type": "stream",
     "text": [
      "[['Entire home/apt' 2096]\n",
      " ['Private room' 3372]\n",
      " ['Shared room' 198]]\n",
      "\n",
      "Total number of listings:  5666\n"
     ]
    },
    {
     "data": {
      "image/png": "[encoded data removed]",
      "text/plain": [
       "<Figure size 432x288 with 1 Axes>"
      ]
     },
     "metadata": {
      "needs_background": "light"
     },
     "output_type": "display_data"
    }
   ],
   "source": [
    "display_distribution('Queens', dfRoomType)"
   ]
  },
  {
   "cell_type": "markdown",
   "metadata": {},
   "source": [
    "### Distribution of space types in Staten Island\n",
    "\n",
    "There is a total of 373 listings in Staten Island, which is considerably lower than the other bouroughs. Most listings are private rooms, but there just as much entire homes and aparments as well.<br>\n",
    "\n",
    "<b>Total listings:</b> 373\n",
    "\n",
    "Counts:\n",
    "<ul>\n",
    "    <li><b>Entire home/apt:</b> 176</li>\n",
    "    <li><b>Private room:</b> 188</li>\n",
    "    <li><b>Shared room:</b> 9</li>\n",
    "</ul>"
   ]
  },
  {
   "cell_type": "code",
   "execution_count": 15,
   "metadata": {
    "scrolled": true
   },
   "outputs": [
    {
     "name": "stdout",
     "output_type": "stream",
     "text": [
      "[['Entire home/apt' 176]\n",
      " ['Private room' 188]\n",
      " ['Shared room' 9]]\n",
      "\n",
      "Total number of listings:  373\n"
     ]
    },
    {
     "data": {
      "image/png": "[encoded data removed]",
      "text/plain": [
       "<Figure size 432x288 with 1 Axes>"
      ]
     },
     "metadata": {
      "needs_background": "light"
     },
     "output_type": "display_data"
    }
   ],
   "source": [
    "display_distribution('Staten Island', dfRoomType)"
   ]
  },
  {
   "cell_type": "markdown",
   "metadata": {},
   "source": [
    "# Lets explore Brooklyn\n",
    "\n",
    "I calculated the average unbooked days by each borough, and Brooklyn had the lowest average. Therefore I concluded that Brooklyn must be the highest sought after borough in NYC. I want to explore what makes Brooklyn attractive"
   ]
  },
  {
   "cell_type": "code",
   "execution_count": 16,
   "metadata": {
    "scrolled": true
   },
   "outputs": [
    {
     "name": "stderr",
     "output_type": "stream",
     "text": [
      "/Users/adam/anaconda3/lib/python3.6/site-packages/pandas/core/frame.py:4117: SettingWithCopyWarning: \n",
      "A value is trying to be set on a copy of a slice from a DataFrame\n",
      "\n",
      "See the caveats in the documentation: http://pandas.pydata.org/pandas-docs/stable/user_guide/indexing.html#returning-a-view-versus-a-copy\n",
      "  errors=errors,\n"
     ]
    },
    {
     "data": {
      "text/html": [
       "<div>\n",
       "<style scoped>\n",
       "    .dataframe tbody tr th:only-of-type {\n",
       "        vertical-align: middle;\n",
       "    }\n",
       "\n",
       "    .dataframe tbody tr th {\n",
       "        vertical-align: top;\n",
       "    }\n",
       "\n",
       "    .dataframe thead th {\n",
       "        text-align: right;\n",
       "    }\n",
       "</style>\n",
       "<table border=\"1\" class=\"dataframe\">\n",
       "  <thead>\n",
       "    <tr style=\"text-align: right;\">\n",
       "      <th></th>\n",
       "      <th>id</th>\n",
       "      <th>name</th>\n",
       "      <th>host_id</th>\n",
       "      <th>host_name</th>\n",
       "      <th>neighbourhood</th>\n",
       "      <th>latitude</th>\n",
       "      <th>longitude</th>\n",
       "      <th>room_type</th>\n",
       "      <th>price</th>\n",
       "      <th>minimum_nights</th>\n",
       "      <th>number_of_reviews</th>\n",
       "      <th>last_review</th>\n",
       "      <th>reviews_per_month</th>\n",
       "      <th>calculated_host_listings_count</th>\n",
       "      <th>availability_365</th>\n",
       "    </tr>\n",
       "  </thead>\n",
       "  <tbody>\n",
       "    <tr>\n",
       "      <th>0</th>\n",
       "      <td>2539</td>\n",
       "      <td>Clean &amp; quiet apt home by the park</td>\n",
       "      <td>2787</td>\n",
       "      <td>John</td>\n",
       "      <td>Kensington</td>\n",
       "      <td>40.64749</td>\n",
       "      <td>-73.97237</td>\n",
       "      <td>Private room</td>\n",
       "      <td>149</td>\n",
       "      <td>1</td>\n",
       "      <td>9</td>\n",
       "      <td>2018-10-19</td>\n",
       "      <td>0.21</td>\n",
       "      <td>6</td>\n",
       "      <td>365</td>\n",
       "    </tr>\n",
       "    <tr>\n",
       "      <th>3</th>\n",
       "      <td>3831</td>\n",
       "      <td>Cozy Entire Floor of Brownstone</td>\n",
       "      <td>4869</td>\n",
       "      <td>LisaRoxanne</td>\n",
       "      <td>Clinton Hill</td>\n",
       "      <td>40.68514</td>\n",
       "      <td>-73.95976</td>\n",
       "      <td>Entire home/apt</td>\n",
       "      <td>89</td>\n",
       "      <td>1</td>\n",
       "      <td>270</td>\n",
       "      <td>2019-07-05</td>\n",
       "      <td>4.64</td>\n",
       "      <td>1</td>\n",
       "      <td>194</td>\n",
       "    </tr>\n",
       "    <tr>\n",
       "      <th>6</th>\n",
       "      <td>5121</td>\n",
       "      <td>BlissArtsSpace!</td>\n",
       "      <td>7356</td>\n",
       "      <td>Garon</td>\n",
       "      <td>Bedford-Stuyvesant</td>\n",
       "      <td>40.68688</td>\n",
       "      <td>-73.95596</td>\n",
       "      <td>Private room</td>\n",
       "      <td>60</td>\n",
       "      <td>45</td>\n",
       "      <td>49</td>\n",
       "      <td>2017-10-05</td>\n",
       "      <td>0.40</td>\n",
       "      <td>1</td>\n",
       "      <td>0</td>\n",
       "    </tr>\n",
       "    <tr>\n",
       "      <th>12</th>\n",
       "      <td>5803</td>\n",
       "      <td>Lovely Room 1, Garden, Best Area, Legal rental</td>\n",
       "      <td>9744</td>\n",
       "      <td>Laurie</td>\n",
       "      <td>South Slope</td>\n",
       "      <td>40.66829</td>\n",
       "      <td>-73.98779</td>\n",
       "      <td>Private room</td>\n",
       "      <td>89</td>\n",
       "      <td>4</td>\n",
       "      <td>167</td>\n",
       "      <td>2019-06-24</td>\n",
       "      <td>1.34</td>\n",
       "      <td>3</td>\n",
       "      <td>314</td>\n",
       "    </tr>\n",
       "    <tr>\n",
       "      <th>15</th>\n",
       "      <td>6848</td>\n",
       "      <td>Only 2 stops to Manhattan studio</td>\n",
       "      <td>15991</td>\n",
       "      <td>Allen &amp; Irina</td>\n",
       "      <td>Williamsburg</td>\n",
       "      <td>40.70837</td>\n",
       "      <td>-73.95352</td>\n",
       "      <td>Entire home/apt</td>\n",
       "      <td>140</td>\n",
       "      <td>2</td>\n",
       "      <td>148</td>\n",
       "      <td>2019-06-29</td>\n",
       "      <td>1.20</td>\n",
       "      <td>1</td>\n",
       "      <td>46</td>\n",
       "    </tr>\n",
       "  </tbody>\n",
       "</table>\n",
       "</div>"
      ],
      "text/plain": [
       "      id                                            name  host_id  \\\n",
       "0   2539              Clean & quiet apt home by the park     2787   \n",
       "3   3831                 Cozy Entire Floor of Brownstone     4869   \n",
       "6   5121                                 BlissArtsSpace!     7356   \n",
       "12  5803  Lovely Room 1, Garden, Best Area, Legal rental     9744   \n",
       "15  6848                Only 2 stops to Manhattan studio    15991   \n",
       "\n",
       "        host_name       neighbourhood  latitude  longitude        room_type  \\\n",
       "0            John          Kensington  40.64749  -73.97237     Private room   \n",
       "3     LisaRoxanne        Clinton Hill  40.68514  -73.95976  Entire home/apt   \n",
       "6           Garon  Bedford-Stuyvesant  40.68688  -73.95596     Private room   \n",
       "12         Laurie         South Slope  40.66829  -73.98779     Private room   \n",
       "15  Allen & Irina        Williamsburg  40.70837  -73.95352  Entire home/apt   \n",
       "\n",
       "    price  minimum_nights  number_of_reviews last_review  reviews_per_month  \\\n",
       "0     149               1                  9  2018-10-19               0.21   \n",
       "3      89               1                270  2019-07-05               4.64   \n",
       "6      60              45                 49  2017-10-05               0.40   \n",
       "12     89               4                167  2019-06-24               1.34   \n",
       "15    140               2                148  2019-06-29               1.20   \n",
       "\n",
       "    calculated_host_listings_count  availability_365  \n",
       "0                                6               365  \n",
       "3                                1               194  \n",
       "6                                1                 0  \n",
       "12                               3               314  \n",
       "15                               1                46  "
      ]
     },
     "execution_count": 16,
     "metadata": {},
     "output_type": "execute_result"
    }
   ],
   "source": [
    "BrooklynDF = Air2019.loc[Air2019.neighbourhood_group=='Brooklyn', :]\n",
    "BrooklynDF.drop('neighbourhood_group', inplace=True, axis=1)\n",
    "BrooklynDF.head()"
   ]
  },
  {
   "cell_type": "code",
   "execution_count": 17,
   "metadata": {},
   "outputs": [
    {
     "data": {
      "text/plain": [
       "(20104, 15)"
      ]
     },
     "execution_count": 17,
     "metadata": {},
     "output_type": "execute_result"
    }
   ],
   "source": [
    "BrooklynDF.shape"
   ]
  },
  {
   "cell_type": "markdown",
   "metadata": {},
   "source": [
    "There are 20,104 AirBnb listings in Brooklyn!"
   ]
  },
  {
   "cell_type": "code",
   "execution_count": 18,
   "metadata": {},
   "outputs": [
    {
     "data": {
      "text/plain": [
       "47"
      ]
     },
     "execution_count": 18,
     "metadata": {},
     "output_type": "execute_result"
    }
   ],
   "source": [
    "len(BrooklynDF.neighbourhood.unique())"
   ]
  },
  {
   "cell_type": "markdown",
   "metadata": {},
   "source": [
    "There are 47 neighbourhoods in Brooklyn"
   ]
  },
  {
   "cell_type": "code",
   "execution_count": 19,
   "metadata": {
    "scrolled": true
   },
   "outputs": [
    {
     "data": {
      "text/plain": [
       "Williamsburg                 3920\n",
       "Bedford-Stuyvesant           3714\n",
       "Bushwick                     2465\n",
       "Crown Heights                1564\n",
       "Greenpoint                   1115\n",
       "Flatbush                      621\n",
       "Clinton Hill                  572\n",
       "Prospect-Lefferts Gardens     535\n",
       "Park Slope                    506\n",
       "East Flatbush                 500\n",
       "Fort Greene                   489\n",
       "Sunset Park                   390\n",
       "Prospect Heights              357\n",
       "South Slope                   284\n",
       "Gowanus                       247\n",
       "Carroll Gardens               233\n",
       "East New York                 218\n",
       "Boerum Hill                   177\n",
       "Kensington                    175\n",
       "Sheepshead Bay                164\n",
       "Windsor Terrace               157\n",
       "Brooklyn Heights              154\n",
       "Canarsie                      147\n",
       "Bay Ridge                     141\n",
       "Borough Park                  136\n",
       "Cypress Hills                 135\n",
       "Midwood                       109\n",
       "Cobble Hill                    99\n",
       "Flatlands                      83\n",
       "Downtown Brooklyn              83\n",
       "Red Hook                       79\n",
       "Brighton Beach                 75\n",
       "Bensonhurst                    75\n",
       "Gravesend                      68\n",
       "Brownsville                    61\n",
       "Fort Hamilton                  55\n",
       "Columbia St                    42\n",
       "DUMBO                          36\n",
       "Vinegar Hill                   34\n",
       "Coney Island                   17\n",
       "Bath Beach                     17\n",
       "Navy Yard                      14\n",
       "Dyker Heights                  12\n",
       "Bergen Beach                   10\n",
       "Manhattan Beach                 8\n",
       "Sea Gate                        7\n",
       "Mill Basin                      4\n",
       "Name: neighbourhood, dtype: int64"
      ]
     },
     "execution_count": 19,
     "metadata": {},
     "output_type": "execute_result"
    }
   ],
   "source": [
    "BrooklynDF['neighbourhood'].value_counts()"
   ]
  },
  {
   "cell_type": "markdown",
   "metadata": {},
   "source": [
    "The top five neighbourhoods that have the most listings are:\n",
    "\n",
    "1. Williamsburg: 3920\n",
    "2. Bedford-Stuyvesant: 3714\n",
    "3. Bushwick: 2465\n",
    "4. Crown Heights: 1564\n",
    "5. Greenpoint: 1115"
   ]
  },
  {
   "cell_type": "markdown",
   "metadata": {},
   "source": [
    "## What Brooklyn neighborhoods are the most expensive?"
   ]
  },
  {
   "cell_type": "code",
   "execution_count": 20,
   "metadata": {
    "scrolled": true
   },
   "outputs": [
    {
     "data": {
      "text/html": [
       "<div>\n",
       "<style scoped>\n",
       "    .dataframe tbody tr th:only-of-type {\n",
       "        vertical-align: middle;\n",
       "    }\n",
       "\n",
       "    .dataframe tbody tr th {\n",
       "        vertical-align: top;\n",
       "    }\n",
       "\n",
       "    .dataframe thead th {\n",
       "        text-align: right;\n",
       "    }\n",
       "</style>\n",
       "<table border=\"1\" class=\"dataframe\">\n",
       "  <thead>\n",
       "    <tr style=\"text-align: right;\">\n",
       "      <th></th>\n",
       "      <th>price</th>\n",
       "    </tr>\n",
       "    <tr>\n",
       "      <th>neighbourhood</th>\n",
       "      <th></th>\n",
       "    </tr>\n",
       "  </thead>\n",
       "  <tbody>\n",
       "    <tr>\n",
       "      <th>Sea Gate</th>\n",
       "      <td>487.857143</td>\n",
       "    </tr>\n",
       "    <tr>\n",
       "      <th>Cobble Hill</th>\n",
       "      <td>211.929293</td>\n",
       "    </tr>\n",
       "    <tr>\n",
       "      <th>Brooklyn Heights</th>\n",
       "      <td>209.064935</td>\n",
       "    </tr>\n",
       "    <tr>\n",
       "      <th>DUMBO</th>\n",
       "      <td>196.305556</td>\n",
       "    </tr>\n",
       "    <tr>\n",
       "      <th>Vinegar Hill</th>\n",
       "      <td>187.176471</td>\n",
       "    </tr>\n",
       "  </tbody>\n",
       "</table>\n",
       "</div>"
      ],
      "text/plain": [
       "                       price\n",
       "neighbourhood               \n",
       "Sea Gate          487.857143\n",
       "Cobble Hill       211.929293\n",
       "Brooklyn Heights  209.064935\n",
       "DUMBO             196.305556\n",
       "Vinegar Hill      187.176471"
      ]
     },
     "execution_count": 20,
     "metadata": {},
     "output_type": "execute_result"
    }
   ],
   "source": [
    "BrooklynDF.loc[:, ['neighbourhood', 'price']].groupby(['neighbourhood']).mean().nlargest(5, 'price')"
   ]
  },
  {
   "cell_type": "markdown",
   "metadata": {},
   "source": [
    "Above are the top five most expensive neighborhoods in Brooklyn. The price column contains the average of the prices in those neighborhoods."
   ]
  },
  {
   "cell_type": "markdown",
   "metadata": {},
   "source": [
    "## What Brooklyn neighborhoods are the cheapest?"
   ]
  },
  {
   "cell_type": "code",
   "execution_count": 21,
   "metadata": {},
   "outputs": [
    {
     "data": {
      "text/html": [
       "<div>\n",
       "<style scoped>\n",
       "    .dataframe tbody tr th:only-of-type {\n",
       "        vertical-align: middle;\n",
       "    }\n",
       "\n",
       "    .dataframe tbody tr th {\n",
       "        vertical-align: top;\n",
       "    }\n",
       "\n",
       "    .dataframe thead th {\n",
       "        text-align: right;\n",
       "    }\n",
       "</style>\n",
       "<table border=\"1\" class=\"dataframe\">\n",
       "  <thead>\n",
       "    <tr style=\"text-align: right;\">\n",
       "      <th></th>\n",
       "      <th>price</th>\n",
       "    </tr>\n",
       "    <tr>\n",
       "      <th>neighbourhood</th>\n",
       "      <th></th>\n",
       "    </tr>\n",
       "  </thead>\n",
       "  <tbody>\n",
       "    <tr>\n",
       "      <th>Borough Park</th>\n",
       "      <td>63.066176</td>\n",
       "    </tr>\n",
       "    <tr>\n",
       "      <th>Bensonhurst</th>\n",
       "      <td>75.786667</td>\n",
       "    </tr>\n",
       "    <tr>\n",
       "      <th>Brownsville</th>\n",
       "      <td>76.459016</td>\n",
       "    </tr>\n",
       "    <tr>\n",
       "      <th>Gravesend</th>\n",
       "      <td>79.014706</td>\n",
       "    </tr>\n",
       "    <tr>\n",
       "      <th>Midwood</th>\n",
       "      <td>80.339450</td>\n",
       "    </tr>\n",
       "  </tbody>\n",
       "</table>\n",
       "</div>"
      ],
      "text/plain": [
       "                   price\n",
       "neighbourhood           \n",
       "Borough Park   63.066176\n",
       "Bensonhurst    75.786667\n",
       "Brownsville    76.459016\n",
       "Gravesend      79.014706\n",
       "Midwood        80.339450"
      ]
     },
     "execution_count": 21,
     "metadata": {},
     "output_type": "execute_result"
    }
   ],
   "source": [
    "BrooklynDF.loc[:, ['neighbourhood', 'price']].groupby(['neighbourhood']).mean().nsmallest(5, 'price')"
   ]
  },
  {
   "cell_type": "markdown",
   "metadata": {},
   "source": [
    "Above are the top five cheapest neighborhoods in Brooklyn. The price column contains the average prices in those neighborhoods."
   ]
  },
  {
   "cell_type": "markdown",
   "metadata": {},
   "source": [
    "## Lets predict the price of Airbnbs in Brooklyn\n",
    "\n",
    "I will build a Ridge Linear Regression model to predict the prices of a listing according to the features below:\n",
    "\n",
    "<ol>\n",
    "    <li><b>neighbourhood:</b> neighbourhood in Brooklyn</li>\n",
    "    <li><b>latitude:</b> latitude coordinates</li>\n",
    "    <li><b>longitude:</b> longitude coordinates</li>\n",
    "    <li><b>room_type:</b> listing space type</li>\n",
    "    <li><b>availability_365:</b> number of days when listing is available for booking</li>\n",
    "</ol>\n",
    "\n",
    "We will be predicting the prices of these observations.<br>\n",
    "Read using sklearn's Ridge Model <a href='https://scikit-learn.org/stable/modules/generated/sklearn.linear_model.Ridge.html#sklearn.linear_model.Ridge'>here</a>.\n",
    "\n",
    "I will use the metric, **MSPE(Mean Squared Prediction Error)**, to measure the performance of the model"
   ]
  },
  {
   "cell_type": "code",
   "execution_count": 22,
   "metadata": {
    "scrolled": true
   },
   "outputs": [
    {
     "data": {
      "text/html": [
       "<div>\n",
       "<style scoped>\n",
       "    .dataframe tbody tr th:only-of-type {\n",
       "        vertical-align: middle;\n",
       "    }\n",
       "\n",
       "    .dataframe tbody tr th {\n",
       "        vertical-align: top;\n",
       "    }\n",
       "\n",
       "    .dataframe thead th {\n",
       "        text-align: right;\n",
       "    }\n",
       "</style>\n",
       "<table border=\"1\" class=\"dataframe\">\n",
       "  <thead>\n",
       "    <tr style=\"text-align: right;\">\n",
       "      <th></th>\n",
       "      <th>neighbourhood</th>\n",
       "      <th>latitude</th>\n",
       "      <th>longitude</th>\n",
       "      <th>room_type</th>\n",
       "      <th>price</th>\n",
       "      <th>availability_365</th>\n",
       "    </tr>\n",
       "  </thead>\n",
       "  <tbody>\n",
       "    <tr>\n",
       "      <th>0</th>\n",
       "      <td>Kensington</td>\n",
       "      <td>40.64749</td>\n",
       "      <td>-73.97237</td>\n",
       "      <td>Private room</td>\n",
       "      <td>149</td>\n",
       "      <td>365</td>\n",
       "    </tr>\n",
       "    <tr>\n",
       "      <th>3</th>\n",
       "      <td>Clinton Hill</td>\n",
       "      <td>40.68514</td>\n",
       "      <td>-73.95976</td>\n",
       "      <td>Entire home/apt</td>\n",
       "      <td>89</td>\n",
       "      <td>194</td>\n",
       "    </tr>\n",
       "    <tr>\n",
       "      <th>6</th>\n",
       "      <td>Bedford-Stuyvesant</td>\n",
       "      <td>40.68688</td>\n",
       "      <td>-73.95596</td>\n",
       "      <td>Private room</td>\n",
       "      <td>60</td>\n",
       "      <td>0</td>\n",
       "    </tr>\n",
       "    <tr>\n",
       "      <th>12</th>\n",
       "      <td>South Slope</td>\n",
       "      <td>40.66829</td>\n",
       "      <td>-73.98779</td>\n",
       "      <td>Private room</td>\n",
       "      <td>89</td>\n",
       "      <td>314</td>\n",
       "    </tr>\n",
       "    <tr>\n",
       "      <th>15</th>\n",
       "      <td>Williamsburg</td>\n",
       "      <td>40.70837</td>\n",
       "      <td>-73.95352</td>\n",
       "      <td>Entire home/apt</td>\n",
       "      <td>140</td>\n",
       "      <td>46</td>\n",
       "    </tr>\n",
       "  </tbody>\n",
       "</table>\n",
       "</div>"
      ],
      "text/plain": [
       "         neighbourhood  latitude  longitude        room_type  price  \\\n",
       "0           Kensington  40.64749  -73.97237     Private room    149   \n",
       "3         Clinton Hill  40.68514  -73.95976  Entire home/apt     89   \n",
       "6   Bedford-Stuyvesant  40.68688  -73.95596     Private room     60   \n",
       "12         South Slope  40.66829  -73.98779     Private room     89   \n",
       "15        Williamsburg  40.70837  -73.95352  Entire home/apt    140   \n",
       "\n",
       "    availability_365  \n",
       "0                365  \n",
       "3                194  \n",
       "6                  0  \n",
       "12               314  \n",
       "15                46  "
      ]
     },
     "execution_count": 22,
     "metadata": {},
     "output_type": "execute_result"
    }
   ],
   "source": [
    "LinearBrook = BrooklynDF.loc[:, ['neighbourhood', 'latitude', 'longitude', 'room_type', 'price', 'availability_365']]\n",
    "LinearBrook.head()"
   ]
  },
  {
   "cell_type": "markdown",
   "metadata": {},
   "source": [
    "Before proceeding, it is best to check if there are any null values within the data. Which there are not any according to the cell below."
   ]
  },
  {
   "cell_type": "code",
   "execution_count": 23,
   "metadata": {},
   "outputs": [
    {
     "data": {
      "text/plain": [
       "0"
      ]
     },
     "execution_count": 23,
     "metadata": {},
     "output_type": "execute_result"
    }
   ],
   "source": [
    "LinearBrook.isna().sum().sum()"
   ]
  },
  {
   "cell_type": "code",
   "execution_count": 24,
   "metadata": {},
   "outputs": [],
   "source": [
    "Y = LinearBrook.price\n",
    "X = LinearBrook.drop('price', axis=1)"
   ]
  },
  {
   "cell_type": "code",
   "execution_count": 25,
   "metadata": {},
   "outputs": [],
   "source": [
    "# OneHot encoding the neighbourhood column\n",
    "oneHot = pd.get_dummies(X['neighbourhood'])\n",
    "X.drop(['neighbourhood'], axis=1, inplace=True)\n",
    "X = X.join(oneHot)\n",
    "\n",
    "# OneHot encoding the room_type column\n",
    "RoomOneHot = pd.get_dummies(X['room_type'])\n",
    "X.drop(['room_type'], axis=1, inplace=True)\n",
    "X = X.join(RoomOneHot)\n",
    "\n",
    "# Normalize the data\n",
    "X = (X-X.mean())/X.std()"
   ]
  },
  {
   "cell_type": "code",
   "execution_count": 26,
   "metadata": {},
   "outputs": [],
   "source": [
    "#Test set will have 0.25 of the original data\n",
    "X_train, X_test, y_train, y_test = train_test_split(X, Y, random_state=42)"
   ]
  },
  {
   "cell_type": "code",
   "execution_count": 27,
   "metadata": {},
   "outputs": [
    {
     "name": "stdout",
     "output_type": "stream",
     "text": [
      "Alpha: 0.001\n",
      "MSPE: 25409.353639320958\n",
      "Alpha: 0.01\n",
      "MSPE: 25409.353986667113\n",
      "Alpha: 0.1\n",
      "MSPE: 25409.35745840414\n",
      "Alpha: 0.2\n",
      "MSPE: 25409.361312213725\n",
      "Alpha: 0.3\n",
      "MSPE: 25409.36516215587\n",
      "Alpha: 0.4\n",
      "MSPE: 25409.369008232712\n",
      "Alpha: 0.5\n",
      "MSPE: 25409.37285044636\n",
      "Alpha: 0.6\n",
      "MSPE: 25409.37668879894\n",
      "Alpha: 0.7\n",
      "MSPE: 25409.38052329257\n",
      "Alpha: 0.8\n",
      "MSPE: 25409.38435392938\n",
      "Alpha: 0.9\n",
      "MSPE: 25409.388180711503\n",
      "Alpha: 1.0\n",
      "MSPE: 25409.392003641038\n",
      "The best alpha is: 0.001\n"
     ]
    }
   ],
   "source": [
    "#Finding the best model using these alpha values\n",
    "alphas = [0.001,0.01,0.1, 0.2, 0.3, 0.4, 0.5, 0.6, 0.7, 0.8, 0.9, 1.0]\n",
    "MSPE = []\n",
    "\n",
    "for alpha_val in alphas:\n",
    "    print('Alpha: {}'.format(alpha_val))\n",
    "    model = Ridge(alpha=alpha_val)\n",
    "    model.fit(X_train, y_train)\n",
    "    y_preds = model.predict(X_test)\n",
    "    mspe = metrics.mean_squared_error(y_true = y_test, y_pred = y_preds)\n",
    "    print('MSPE: {}'.format(mspe))\n",
    "    MSPE.append(mspe)\n",
    "    \n",
    "MSPE = np.array(MSPE)\n",
    "best_alpha_idx = np.argmin(MSPE)\n",
    "print('The best alpha is: {}'.format(alphas[best_alpha_idx]))"
   ]
  },
  {
   "cell_type": "markdown",
   "metadata": {},
   "source": [
    "The best alpha is 0.001 that gave us the lowest MSPE (Mean Squared Prediction Error) error."
   ]
  },
  {
   "cell_type": "code",
   "execution_count": 28,
   "metadata": {},
   "outputs": [],
   "source": [
    "#Creating the Ridge model with alpha=1.0\n",
    "model = Ridge(alpha=0.001)"
   ]
  },
  {
   "cell_type": "code",
   "execution_count": 29,
   "metadata": {},
   "outputs": [
    {
     "data": {
      "text/plain": [
       "Ridge(alpha=0.001, copy_X=True, fit_intercept=True, max_iter=None,\n",
       "   normalize=False, random_state=None, solver='auto', tol=0.001)"
      ]
     },
     "execution_count": 29,
     "metadata": {},
     "output_type": "execute_result"
    }
   ],
   "source": [
    "model.fit(X_train, y_train)"
   ]
  },
  {
   "cell_type": "code",
   "execution_count": 30,
   "metadata": {},
   "outputs": [],
   "source": [
    "y_preds = model.predict(X_test)"
   ]
  },
  {
   "cell_type": "code",
   "execution_count": 31,
   "metadata": {},
   "outputs": [
    {
     "name": "stdout",
     "output_type": "stream",
     "text": [
      "The MSPE of the Ridge Model is 25409.353639320958\n"
     ]
    }
   ],
   "source": [
    "mspe = metrics.mean_squared_error(y_true = y_test, y_pred = y_preds)\n",
    "print('The MSPE of the Ridge Model is {}'.format(mspe))"
   ]
  },
  {
   "cell_type": "markdown",
   "metadata": {},
   "source": [
    "## Building a regular Linear Regression Model\n",
    "\n",
    "Scikit Learn's Regression Model <a href='https://scikit-learn.org/stable/modules/generated/sklearn.linear_model.LinearRegression.html'>here</a>."
   ]
  },
  {
   "cell_type": "code",
   "execution_count": 32,
   "metadata": {},
   "outputs": [
    {
     "data": {
      "text/plain": [
       "LinearRegression(copy_X=True, fit_intercept=True, n_jobs=None,\n",
       "         normalize=False)"
      ]
     },
     "execution_count": 32,
     "metadata": {},
     "output_type": "execute_result"
    }
   ],
   "source": [
    "LinearModel = LinearRegression()\n",
    "LinearModel.fit(X_train, y_train)"
   ]
  },
  {
   "cell_type": "code",
   "execution_count": 33,
   "metadata": {},
   "outputs": [],
   "source": [
    "Linear_preds = LinearModel.predict(X_test)"
   ]
  },
  {
   "cell_type": "code",
   "execution_count": 34,
   "metadata": {},
   "outputs": [
    {
     "name": "stdout",
     "output_type": "stream",
     "text": [
      "The MSPE of the Ridge Model is 25408.934150983292\n"
     ]
    }
   ],
   "source": [
    "LinearMSPE = metrics.mean_squared_error(y_true = y_test, y_pred = Linear_preds)\n",
    "print('The MSPE of the Ridge Model is {}'.format(LinearMSPE))"
   ]
  },
  {
   "cell_type": "markdown",
   "metadata": {},
   "source": [
    "## Ridge Regression Model vs Linear Regression Model\n",
    "\n",
    "I will compare the MSPE values of each to determine what model performed better"
   ]
  },
  {
   "cell_type": "code",
   "execution_count": 35,
   "metadata": {},
   "outputs": [
    {
     "name": "stdout",
     "output_type": "stream",
     "text": [
      "Linear Regression performed better!\n",
      "The difference between the two MSPEs is 0.4194883376658254\n"
     ]
    }
   ],
   "source": [
    "if LinearMSPE < mspe:\n",
    "    print('Linear Regression performed better!')\n",
    "    diff = mspe - LinearMSPE\n",
    "else:\n",
    "    print('Ridge Regression performed better!')\n",
    "    diff = LinearMSPE - mspe\n",
    "print('The difference between the two MSPEs is {}'.format(diff))"
   ]
  },
  {
   "cell_type": "markdown",
   "metadata": {},
   "source": [
    "## The Linear Regression performed better!"
   ]
  },
  {
   "cell_type": "markdown",
   "metadata": {},
   "source": [
    "## Now what features lead to the prices of the Airbnb listings?\n",
    "\n",
    "One positive of having the Linear Regression is that the model is unbiased, therefore the coefficients of the model determine what features are most important."
   ]
  },
  {
   "cell_type": "code",
   "execution_count": 36,
   "metadata": {},
   "outputs": [
    {
     "data": {
      "text/plain": [
       "array([ 2.27467382e+01, -1.28524563e+01,  1.55277479e+01,  4.27801475e+12,\n",
       "        1.22823859e+13,  5.71176990e+13,  8.97264617e+12,  3.28165919e+12,\n",
       "        1.37488974e+13,  1.20641580e+13,  8.97264617e+12,  1.28319331e+13,\n",
       "        8.09480810e+12,  4.82731589e+13,  1.25391060e+13,  1.57524496e+13,\n",
       "        2.44698693e+13,  1.03026074e+13,  6.72004274e+12,  4.27801475e+12,\n",
       "        3.94215337e+13,  1.20200236e+13,  6.22248092e+12,  9.43717929e+12,\n",
       "        3.59469862e+12,  2.29201590e+13,  1.52427119e+13,  2.54644319e+13,\n",
       "        9.43717929e+12,  2.26729935e+13,  7.68755046e+12,  1.62130817e+13,\n",
       "        8.54516090e+12,  3.36859468e+13,  1.36716854e+13,  2.93535128e+12,\n",
       "        1.08077236e+13,  2.07581335e+12,  3.88252502e+12,  2.30537411e+13,\n",
       "        1.94377033e+13,  2.36876231e+13,  9.20788920e+12,  2.74583801e+12,\n",
       "        1.32386828e+13,  1.73688583e+13,  2.02992483e+13,  6.04746581e+12,\n",
       "        5.83104302e+13,  1.29553424e+13, -7.53505198e+13, -7.54389188e+13,\n",
       "       -2.14025560e+13])"
      ]
     },
     "execution_count": 36,
     "metadata": {},
     "output_type": "execute_result"
    }
   ],
   "source": [
    "LinearModel.coef_"
   ]
  },
  {
   "cell_type": "code",
   "execution_count": 37,
   "metadata": {},
   "outputs": [],
   "source": [
    "asc_indices = np.argsort(LinearModel.coef_)"
   ]
  },
  {
   "cell_type": "code",
   "execution_count": 38,
   "metadata": {
    "scrolled": true
   },
   "outputs": [
    {
     "data": {
      "text/plain": [
       "array([3.36859468e+13, 3.94215337e+13, 4.82731589e+13, 5.71176990e+13,\n",
       "       5.83104302e+13])"
      ]
     },
     "execution_count": 38,
     "metadata": {},
     "output_type": "execute_result"
    }
   ],
   "source": [
    "# Top Five Positive Coefficients\n",
    "top_5Coef = asc_indices[48:]\n",
    "LinearModel.coef_[top_5Coef]"
   ]
  },
  {
   "cell_type": "code",
   "execution_count": 39,
   "metadata": {
    "scrolled": true
   },
   "outputs": [
    {
     "data": {
      "text/plain": [
       "Index(['Greenpoint', 'Crown Heights', 'Bushwick', 'Bedford-Stuyvesant',\n",
       "       'Williamsburg'],\n",
       "      dtype='object')"
      ]
     },
     "execution_count": 39,
     "metadata": {},
     "output_type": "execute_result"
    }
   ],
   "source": [
    "# Top Five Features that lead to the increase of the price of Airbnb Listings\n",
    "X.columns[top_5Coef]"
   ]
  },
  {
   "cell_type": "markdown",
   "metadata": {},
   "source": [
    "The top five features that increase the price of the Airbnb Brooklyn listings are:\n",
    "\n",
    "1. **Greenpoint**\n",
    "2. **Crown Heights**\n",
    "3. **Bushwick**\n",
    "4. **Bedford-Stuyvesant**\n",
    "5. **Williamsburg**\n",
    "\n",
    "These are all Neighborhoods!"
   ]
  },
  {
   "cell_type": "code",
   "execution_count": 40,
   "metadata": {},
   "outputs": [
    {
     "data": {
      "text/plain": [
       "array([-7.54389188e+13, -7.53505198e+13, -2.14025560e+13, -1.28524563e+01,\n",
       "        1.55277479e+01])"
      ]
     },
     "execution_count": 40,
     "metadata": {},
     "output_type": "execute_result"
    }
   ],
   "source": [
    "# The worst 5 Coefficient\n",
    "bad_5Coef = asc_indices[0:5]\n",
    "LinearModel.coef_[bad_5Coef]"
   ]
  },
  {
   "cell_type": "markdown",
   "metadata": {},
   "source": [
    "As we see above, there are four negative coefficient."
   ]
  },
  {
   "cell_type": "code",
   "execution_count": 41,
   "metadata": {},
   "outputs": [
    {
     "data": {
      "text/plain": [
       "Index(['Private room', 'Entire home/apt', 'Shared room', 'longitude'], dtype='object')"
      ]
     },
     "execution_count": 41,
     "metadata": {},
     "output_type": "execute_result"
    }
   ],
   "source": [
    "# Let's see what feature decreases the price of an Airbnb listing\n",
    "neg_index = bad_5Coef[0:4]\n",
    "X.columns[neg_index]"
   ]
  },
  {
   "cell_type": "markdown",
   "metadata": {},
   "source": [
    "The features that leads to the price decreasing is:\n",
    "1. **Private room**\n",
    "2. **Entire home/apt**\n",
    "3. **Shared room**\n",
    "4. **longitutde**\n",
    "\n",
    "A private room and an entire home/apt decreases the price about the same much. However, the shared room does not decreases the price as much as a private room or a home/apt.\n",
    "\n",
    "Longitude is measured from the north-south direction. So when longitude increases, it is progessing in the southern direction.\n",
    "\n",
    "Therefore, the price of Airbnb listings in Brooklyn decrease the more south you go. Which means that the travel to the inner NYC city increases as you progress more south."
   ]
  },
  {
   "cell_type": "markdown",
   "metadata": {},
   "source": [
    "# So what did we learn from the Linear Regression Model\n",
    "\n",
    "### For Customers:\n",
    "\n",
    "From the exploration of the coefficients, we can say that there is a clear relationship that the closer you are to the bridges that cross from Brooklyn to Manhattan, the more expensive it would be. This is proven by the inverse relationship of the longitude and the price shows that the price will decrease as the longitude increases. Also, it is best to get a private room or an entire home/apt.\n",
    "\n",
    "### For Hosts:\n",
    "\n",
    "As from the information from above, if you have property closer to the bridges that cross into Manhattan, you can charge more for your property."
   ]
  }
 ],
 "metadata": {
  "kernelspec": {
   "display_name": "Python 3",
   "language": "python",
   "name": "python3"
  },
  "language_info": {
   "codemirror_mode": {
    "name": "ipython",
    "version": 3
   },
   "file_extension": ".py",
   "mimetype": "text/x-python",
   "name": "python",
   "nbconvert_exporter": "python",
   "pygments_lexer": "ipython3",
   "version": "3.6.10"
  }
 },
 "nbformat": 4,
 "nbformat_minor": 4
}
